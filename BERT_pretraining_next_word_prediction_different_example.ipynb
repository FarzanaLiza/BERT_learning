{
 "cells": [
  {
   "cell_type": "markdown",
   "id": "c5e549ee",
   "metadata": {},
   "source": [
    "## Next word prediction with BERT"
   ]
  },
  {
   "cell_type": "markdown",
   "id": "5882ca7e",
   "metadata": {},
   "source": [
    "- Improved code with a lower learning rate: The learning rate can significantly affect training. If it's too high, the model might overshoot the optimal weights. If it's too low, training might be too slow, or the model might get stuck in local minima. In this code, I changed the experiment with a lower learning rate.\n",
    "- Using a different example data for training and testing the Masked Language Model (MLM) task. Although training and testing on the same data can lead to overfitting, I am using the same data for the simplicity and debugging of the experiment."
   ]
  },
  {
   "cell_type": "markdown",
   "id": "6276b6d5",
   "metadata": {},
   "source": [
    "**References**\n",
    "<br>BERT: Pre-training of Deep Bidirectional Transformers for Language Understanding (https://arxiv.org/pdf/1810.04805.pdf)\n",
    "<br>neptune.ai blog: https://neptune.ai/blog/how-to-code-bert-using-pytorch-tutorial\n",
    "<br> original code by Tae Hwan Jung: https://github.com/graykode/nlp-tutorial/blob/master/5-2.BERT/BERT.py"
   ]
  },
  {
   "cell_type": "markdown",
   "id": "b99e6bd2",
   "metadata": {},
   "source": [
    "### Required Packages"
   ]
  },
  {
   "cell_type": "code",
   "execution_count": 1,
   "id": "d81bdbee",
   "metadata": {},
   "outputs": [],
   "source": [
    "import math\n",
    "import re\n",
    "from random import *\n",
    "import numpy as np\n",
    "import torch\n",
    "import torch.nn as nn\n",
    "import torch.optim as optim"
   ]
  },
  {
   "cell_type": "markdown",
   "id": "a74d3919",
   "metadata": {},
   "source": [
    "### Preprocessing data"
   ]
  },
  {
   "cell_type": "code",
   "execution_count": 2,
   "id": "5e56f95d",
   "metadata": {},
   "outputs": [],
   "source": [
    "text = (\n",
    "       '\"Hey, Mike! Long time no see,\" exclaimed Sarah as she spotted him in the cafe\\n'\n",
    "       'Mike looked up and smiled, \"Sarah! It\\'s been ages. How have you been?\"\\n'\n",
    "       '\"I\\'ve been doing well. Just got back from a trip to Spain,\" she replied, taking a seat\\n'\n",
    "       '\"Oh, that sounds amazing! How was it?\" he inquired, genuinely curious\\n'\n",
    "       '\"It was incredible. The culture, food, everything was just perfect,\" she reminisced\\n'\n",
    "       'Mike chuckled, \"I\\'m a bit jealous now\"\\n'\n",
    "       '\"You should definitely visit someday,\" Sarah suggested\\n'\n",
    "       '\"I\\'ll keep that in mind,\" he nodded\\n'\n",
    "       '\"Let\\'s catch up more. I\\'ve missed our chats,\" she said warmly\\n'\n",
    "       '\"Absolutely, there\\'s a lot to share,\" Mike agreed\\n'\n",
    "   )"
   ]
  },
  {
   "cell_type": "code",
   "execution_count": 3,
   "id": "b4eb3c3c",
   "metadata": {},
   "outputs": [
    {
     "name": "stdout",
     "output_type": "stream",
     "text": [
      "\"Hey, Mike! Long time no see,\" exclaimed Sarah as she spotted him in the cafe\n",
      "Mike looked up and smiled, \"Sarah! It's been ages. How have you been?\"\n",
      "\"I've been doing well. Just got back from a trip to Spain,\" she replied, taking a seat\n",
      "\"Oh, that sounds amazing! How was it?\" he inquired, genuinely curious\n",
      "\"It was incredible. The culture, food, everything was just perfect,\" she reminisced\n",
      "Mike chuckled, \"I'm a bit jealous now\"\n",
      "\"You should definitely visit someday,\" Sarah suggested\n",
      "\"I'll keep that in mind,\" he nodded\n",
      "\"Let's catch up more. I've missed our chats,\" she said warmly\n",
      "\"Absolutely, there's a lot to share,\" Mike agreed\n",
      "\n"
     ]
    }
   ],
   "source": [
    "print (text)"
   ]
  },
  {
   "cell_type": "markdown",
   "id": "95f218b2",
   "metadata": {},
   "source": [
    "- Removes punctuations, converts it to lowercase, and splits it into a list of sentences.\n",
    "- Creates a list of unique words from those sentences."
   ]
  },
  {
   "cell_type": "code",
   "execution_count": 4,
   "id": "66083012",
   "metadata": {},
   "outputs": [],
   "source": [
    "sentences = re.sub(\"[.,!?\\\\-]\", '', text.lower()).split('\\n')  # filter '.', ',', '?', '!'\n",
    "word_list = list(set(\" \".join(sentences).split()))"
   ]
  },
  {
   "cell_type": "code",
   "execution_count": 6,
   "id": "8f16b928",
   "metadata": {},
   "outputs": [
    {
     "data": {
      "text/plain": [
       "['\"hey mike long time no see\" exclaimed sarah as she spotted him in the cafe',\n",
       " 'mike looked up and smiled \"sarah it\\'s been ages how have you been\"',\n",
       " '\"i\\'ve been doing well just got back from a trip to spain\" she replied taking a seat',\n",
       " '\"oh that sounds amazing how was it\" he inquired genuinely curious',\n",
       " '\"it was incredible the culture food everything was just perfect\" she reminisced',\n",
       " 'mike chuckled \"i\\'m a bit jealous now\"',\n",
       " '\"you should definitely visit someday\" sarah suggested',\n",
       " '\"i\\'ll keep that in mind\" he nodded',\n",
       " '\"let\\'s catch up more i\\'ve missed our chats\" she said warmly',\n",
       " '\"absolutely there\\'s a lot to share\" mike agreed',\n",
       " '']"
      ]
     },
     "execution_count": 6,
     "metadata": {},
     "output_type": "execute_result"
    }
   ],
   "source": [
    "sentences\n",
    "#word_list"
   ]
  },
  {
   "cell_type": "markdown",
   "id": "483792bf",
   "metadata": {},
   "source": [
    "**Token and purpose:**\n",
    "\n",
    "[CLS] The first token is classification\n",
    "\n",
    "[SEP] Separates two sentences\n",
    "\n",
    "[END] End the sentence\n",
    "\n",
    "[PAD] Truncate the sentences with equal length\n",
    "\n",
    "[MASK] Creates a mask by replacing the original word\n",
    "\n",
    ">This code: \n",
    "<br>Creates word_dict, a dictionary of special tokens.\n",
    "<br>Adds each unique word from word_list to the dictionary with a unique integer value.\n",
    "<br>Creates a reverse dictionary where the keys and values are swapped.\n",
    "<br>Calculates the total number of unique words in the dictionary."
   ]
  },
  {
   "cell_type": "code",
   "execution_count": 7,
   "id": "64fe15e4",
   "metadata": {},
   "outputs": [
    {
     "data": {
      "text/plain": [
       "91"
      ]
     },
     "execution_count": 7,
     "metadata": {},
     "output_type": "execute_result"
    }
   ],
   "source": [
    "word_dict = {'[PAD]': 0, '[CLS]': 1, '[SEP]': 2, '[MASK]': 3}\n",
    "\n",
    "for i, w in enumerate(word_list):\n",
    "    word_dict[w] = i + 4\n",
    "    number_dict = {i: w for i, w in enumerate(word_dict)}\n",
    "    vocab_size = len(word_dict)\n",
    "vocab_size"
   ]
  },
  {
   "cell_type": "code",
   "execution_count": 8,
   "id": "8b2b9871",
   "metadata": {},
   "outputs": [
    {
     "data": {
      "text/plain": [
       "{'[PAD]': 0,\n",
       " '[CLS]': 1,\n",
       " '[SEP]': 2,\n",
       " '[MASK]': 3,\n",
       " 'seat': 4,\n",
       " 'to': 5,\n",
       " 'time': 6,\n",
       " 'mike': 7,\n",
       " 'was': 8,\n",
       " 'up': 9,\n",
       " 'ages': 10,\n",
       " 'definitely': 11,\n",
       " 'agreed': 12,\n",
       " 'food': 13,\n",
       " 'he': 14,\n",
       " 'keep': 15,\n",
       " 'the': 16,\n",
       " 'you': 17,\n",
       " 'well': 18,\n",
       " '\"i\\'m': 19,\n",
       " 'mind\"': 20,\n",
       " 'visit': 21,\n",
       " 'exclaimed': 22,\n",
       " 'long': 23,\n",
       " 'a': 24,\n",
       " 'bit': 25,\n",
       " 'now\"': 26,\n",
       " 'nodded': 27,\n",
       " 'more': 28,\n",
       " 'said': 29,\n",
       " '\"it': 30,\n",
       " 'replied': 31,\n",
       " 'should': 32,\n",
       " 'chuckled': 33,\n",
       " 'incredible': 34,\n",
       " 'reminisced': 35,\n",
       " 'back': 36,\n",
       " 'perfect\"': 37,\n",
       " 'she': 38,\n",
       " 'missed': 39,\n",
       " 'looked': 40,\n",
       " 'in': 41,\n",
       " 'trip': 42,\n",
       " 'genuinely': 43,\n",
       " 'been\"': 44,\n",
       " 'from': 45,\n",
       " 'smiled': 46,\n",
       " 'jealous': 47,\n",
       " 'it\"': 48,\n",
       " 'doing': 49,\n",
       " 'curious': 50,\n",
       " '\"i\\'ve': 51,\n",
       " '\"you': 52,\n",
       " 'culture': 53,\n",
       " \"there's\": 54,\n",
       " 'spotted': 55,\n",
       " '\"i\\'ll': 56,\n",
       " 'have': 57,\n",
       " 'him': 58,\n",
       " 'someday\"': 59,\n",
       " 'sounds': 60,\n",
       " 'suggested': 61,\n",
       " 'spain\"': 62,\n",
       " 'share\"': 63,\n",
       " 'that': 64,\n",
       " 'chats\"': 65,\n",
       " '\"sarah': 66,\n",
       " 'everything': 67,\n",
       " 'see\"': 68,\n",
       " 'taking': 69,\n",
       " 'catch': 70,\n",
       " 'sarah': 71,\n",
       " 'amazing': 72,\n",
       " '\"let\\'s': 73,\n",
       " '\"oh': 74,\n",
       " 'lot': 75,\n",
       " 'inquired': 76,\n",
       " \"i've\": 77,\n",
       " '\"absolutely': 78,\n",
       " 'our': 79,\n",
       " 'just': 80,\n",
       " 'as': 81,\n",
       " 'and': 82,\n",
       " 'no': 83,\n",
       " 'got': 84,\n",
       " \"it's\": 85,\n",
       " 'how': 86,\n",
       " 'cafe': 87,\n",
       " 'warmly': 88,\n",
       " 'been': 89,\n",
       " '\"hey': 90}"
      ]
     },
     "execution_count": 8,
     "metadata": {},
     "output_type": "execute_result"
    }
   ],
   "source": [
    "word_dict"
   ]
  },
  {
   "cell_type": "markdown",
   "id": "e7b5402a",
   "metadata": {},
   "source": [
    "### Taking care of three types of embedding\n",
    "\n",
    "- Token embedding\n",
    "- Segment embedding\n",
    "- Position embedding"
   ]
  },
  {
   "attachments": {
    "image.png": {
     "image/png": "[encoded data removed]"
    }
   },
   "cell_type": "markdown",
   "id": "c2a51001",
   "metadata": {},
   "source": [
    "![image.png](attachment:image.png)\n",
    "source: https://arxiv.org/pdf/1810.04805.pdf"
   ]
  },
  {
   "cell_type": "markdown",
   "id": "a65b3d7e",
   "metadata": {},
   "source": [
    "- Token_list is a list of lists\n",
    "- Each inner list represents a sentence from `sentences`\n",
    "- Instead of words, it will contain integer values that map to those words based on the `word_dict` dictionary"
   ]
  },
  {
   "cell_type": "code",
   "execution_count": 9,
   "id": "249ac8ff",
   "metadata": {},
   "outputs": [],
   "source": [
    "token_list = list()\n",
    "for sentence in sentences:\n",
    "    arr = [word_dict[s] for s in sentence.split()]\n",
    "    token_list.append(arr)"
   ]
  },
  {
   "cell_type": "code",
   "execution_count": 10,
   "id": "556abc4d",
   "metadata": {},
   "outputs": [
    {
     "data": {
      "text/plain": [
       "{'[PAD]': 0,\n",
       " '[CLS]': 1,\n",
       " '[SEP]': 2,\n",
       " '[MASK]': 3,\n",
       " 'seat': 4,\n",
       " 'to': 5,\n",
       " 'time': 6,\n",
       " 'mike': 7,\n",
       " 'was': 8,\n",
       " 'up': 9,\n",
       " 'ages': 10,\n",
       " 'definitely': 11,\n",
       " 'agreed': 12,\n",
       " 'food': 13,\n",
       " 'he': 14,\n",
       " 'keep': 15,\n",
       " 'the': 16,\n",
       " 'you': 17,\n",
       " 'well': 18,\n",
       " '\"i\\'m': 19,\n",
       " 'mind\"': 20,\n",
       " 'visit': 21,\n",
       " 'exclaimed': 22,\n",
       " 'long': 23,\n",
       " 'a': 24,\n",
       " 'bit': 25,\n",
       " 'now\"': 26,\n",
       " 'nodded': 27,\n",
       " 'more': 28,\n",
       " 'said': 29,\n",
       " '\"it': 30,\n",
       " 'replied': 31,\n",
       " 'should': 32,\n",
       " 'chuckled': 33,\n",
       " 'incredible': 34,\n",
       " 'reminisced': 35,\n",
       " 'back': 36,\n",
       " 'perfect\"': 37,\n",
       " 'she': 38,\n",
       " 'missed': 39,\n",
       " 'looked': 40,\n",
       " 'in': 41,\n",
       " 'trip': 42,\n",
       " 'genuinely': 43,\n",
       " 'been\"': 44,\n",
       " 'from': 45,\n",
       " 'smiled': 46,\n",
       " 'jealous': 47,\n",
       " 'it\"': 48,\n",
       " 'doing': 49,\n",
       " 'curious': 50,\n",
       " '\"i\\'ve': 51,\n",
       " '\"you': 52,\n",
       " 'culture': 53,\n",
       " \"there's\": 54,\n",
       " 'spotted': 55,\n",
       " '\"i\\'ll': 56,\n",
       " 'have': 57,\n",
       " 'him': 58,\n",
       " 'someday\"': 59,\n",
       " 'sounds': 60,\n",
       " 'suggested': 61,\n",
       " 'spain\"': 62,\n",
       " 'share\"': 63,\n",
       " 'that': 64,\n",
       " 'chats\"': 65,\n",
       " '\"sarah': 66,\n",
       " 'everything': 67,\n",
       " 'see\"': 68,\n",
       " 'taking': 69,\n",
       " 'catch': 70,\n",
       " 'sarah': 71,\n",
       " 'amazing': 72,\n",
       " '\"let\\'s': 73,\n",
       " '\"oh': 74,\n",
       " 'lot': 75,\n",
       " 'inquired': 76,\n",
       " \"i've\": 77,\n",
       " '\"absolutely': 78,\n",
       " 'our': 79,\n",
       " 'just': 80,\n",
       " 'as': 81,\n",
       " 'and': 82,\n",
       " 'no': 83,\n",
       " 'got': 84,\n",
       " \"it's\": 85,\n",
       " 'how': 86,\n",
       " 'cafe': 87,\n",
       " 'warmly': 88,\n",
       " 'been': 89,\n",
       " '\"hey': 90}"
      ]
     },
     "execution_count": 10,
     "metadata": {},
     "output_type": "execute_result"
    }
   ],
   "source": [
    "word_dict"
   ]
  },
  {
   "cell_type": "code",
   "execution_count": 11,
   "id": "4f67c66b",
   "metadata": {},
   "outputs": [
    {
     "data": {
      "text/plain": [
       "[[90, 7, 23, 6, 83, 68, 22, 71, 81, 38, 55, 58, 41, 16, 87],\n",
       " [7, 40, 9, 82, 46, 66, 85, 89, 10, 86, 57, 17, 44],\n",
       " [51, 89, 49, 18, 80, 84, 36, 45, 24, 42, 5, 62, 38, 31, 69, 24, 4],\n",
       " [74, 64, 60, 72, 86, 8, 48, 14, 76, 43, 50],\n",
       " [30, 8, 34, 16, 53, 13, 67, 8, 80, 37, 38, 35],\n",
       " [7, 33, 19, 24, 25, 47, 26],\n",
       " [52, 32, 11, 21, 59, 71, 61],\n",
       " [56, 15, 64, 41, 20, 14, 27],\n",
       " [73, 70, 9, 28, 77, 39, 79, 65, 38, 29, 88],\n",
       " [78, 54, 24, 75, 5, 63, 7, 12],\n",
       " []]"
      ]
     },
     "execution_count": 11,
     "metadata": {},
     "output_type": "execute_result"
    }
   ],
   "source": [
    "token_list"
   ]
  },
  {
   "cell_type": "code",
   "execution_count": 12,
   "id": "142f2bc7",
   "metadata": {
    "scrolled": true
   },
   "outputs": [
    {
     "data": {
      "text/plain": [
       "['\"hey mike long time no see\" exclaimed sarah as she spotted him in the cafe',\n",
       " 'mike looked up and smiled \"sarah it\\'s been ages how have you been\"',\n",
       " '\"i\\'ve been doing well just got back from a trip to spain\" she replied taking a seat',\n",
       " '\"oh that sounds amazing how was it\" he inquired genuinely curious',\n",
       " '\"it was incredible the culture food everything was just perfect\" she reminisced',\n",
       " 'mike chuckled \"i\\'m a bit jealous now\"',\n",
       " '\"you should definitely visit someday\" sarah suggested',\n",
       " '\"i\\'ll keep that in mind\" he nodded',\n",
       " '\"let\\'s catch up more i\\'ve missed our chats\" she said warmly',\n",
       " '\"absolutely there\\'s a lot to share\" mike agreed',\n",
       " '']"
      ]
     },
     "execution_count": 12,
     "metadata": {},
     "output_type": "execute_result"
    }
   ],
   "source": [
    "sentences"
   ]
  },
  {
   "cell_type": "markdown",
   "id": "752b7933",
   "metadata": {},
   "source": [
    "### Setting up hyperparameters for the transformer architecture"
   ]
  },
  {
   "cell_type": "code",
   "execution_count": 13,
   "id": "e1652fc7",
   "metadata": {},
   "outputs": [],
   "source": [
    "if __name__ == '__main__':\n",
    "    maxlen = 95 # maximum sequence length\n",
    "    batch_size = 6 # how many samples are used in one forward/backward pass (one step of gradient descent) before updating the model's weights\n",
    "    max_pred = 5  # max tokens of prediction\n",
    "    n_layers = 6 # number of Encoder of Encoder Layer\n",
    "    n_heads = 12 # number of heads in Multi-Head Attention\n",
    "    d_model = 768 # Embedding Size\n",
    "    d_ff = 768 * 4  # 4*d_model, FeedForward dimension\n",
    "    d_k = d_v = 64  # dimension of Key(=Q),  and Value in the attention mechanism [768/12=64]\n",
    "    n_segments = 2 #  2 implies that the model can handle pair-input task"
   ]
  },
  {
   "cell_type": "markdown",
   "id": "e79a4efa",
   "metadata": {},
   "source": [
    ">**Function for preparing data for the BERT pre-training task**\n",
    "<br>The model learns to predict masked tokens and determine whether two sentences are consecutive or not.\n",
    "\n",
    "- Masked Language Modeling (MLM) Task:\n",
    "  - 80% of the time: Replace the token with [MASK]\n",
    "  - 10% of the time: Replace the token with a random token\n",
    "  - 10% of the time: Keep the token unchanged\n",
    "        \n",
    "- Padding:\n",
    "    - If the concatenated sentence pair is shorter than max length, it pads the sequence with zeros.\n",
    "    - Similarly, it pads the masked_tokens and masked_pos lists if fewer tokens were masked than max_pred."
   ]
  },
  {
   "cell_type": "code",
   "execution_count": 14,
   "id": "dbcf1a13",
   "metadata": {},
   "outputs": [],
   "source": [
    "def make_batch():\n",
    "    batch = []\n",
    "    positive = negative = 0\n",
    "    \n",
    "    # create a batch that contains an equal number of positive and negative samples.\n",
    "    while positive != batch_size/2 or negative != batch_size/2:\n",
    "        tokens_a_index, tokens_b_index= randrange(len(sentences)), randrange(len(sentences))\n",
    "        \n",
    "        # randomly selecting a tokenized sentence from the token_list and assigning it to variables\n",
    "        tokens_a, tokens_b= token_list[tokens_a_index], token_list[tokens_b_index]\n",
    "\n",
    "        input_ids = [word_dict['[CLS]']] + tokens_a + [word_dict['[SEP]']] + tokens_b + [word_dict['[SEP]']]\n",
    "        \n",
    "        # Creating zeros for positions belonging to the first sequence (tokens_a) and ones for the second sequence (tokens_b)\n",
    "        segment_ids = [0] * (1 + len(tokens_a) + 1) + [1] * (len(tokens_b) + 1)\n",
    "\n",
    "        \n",
    "        # MASK LM\n",
    "        n_pred =  min(max_pred, max(1, int(round(len(input_ids) * 0.15)))) # 15 % of tokens in one sentence\n",
    "        cand_maked_pos = [i for i, token in enumerate(input_ids)\n",
    "                         if token != word_dict['[CLS]'] and token != word_dict['[SEP]']] # excludes the positions of special tokens [CLS] and [SEP] \n",
    "        shuffle(cand_maked_pos)\n",
    "        masked_tokens, masked_pos = [], []\n",
    "        for pos in cand_maked_pos[:n_pred]:\n",
    "            masked_pos.append(pos)\n",
    "            masked_tokens.append(input_ids[pos])\n",
    "            \n",
    "            #    80% chance to replace with [MASK] token\n",
    "            if random() < 0.8:  # 80%\n",
    "                input_ids[pos] = word_dict['[MASK]'] # make mask\n",
    "                \n",
    "            # 10% chance to replace with a random token from the vocabulary\n",
    "            elif random() < 0.5:  # 10%\n",
    "                index = randint(0, vocab_size - 1) # random index in vocabulary\n",
    "                input_ids[pos] = word_dict[number_dict[index]] # replace\n",
    "                \n",
    "            # \"do nothing\" for approximately 10% of the time\n",
    "\n",
    "        # Sentence Zero Paddings\n",
    "        # This is done because deep learning models often require fixed-size input arrays. By padding shorter sequences with zeros, all input sequences can be made to fit the model's expected input size.\n",
    "        n_pad = maxlen - len(input_ids)\n",
    "        input_ids.extend([0] * n_pad)\n",
    "        segment_ids.extend([0] * n_pad)\n",
    "\n",
    "        # Masked tokens Zero Padding (100% - 15%) tokens\n",
    "        # This ensures that, regardless of how many tokens were actually masked in a particular sequence, the lists representing the masked tokens and their positions always have a consistent, expected length (max_pred).\n",
    "        if max_pred > n_pred:\n",
    "            n_pad = max_pred - n_pred\n",
    "            masked_tokens.extend([0] * n_pad)\n",
    "            masked_pos.extend([0] * n_pad)\n",
    "            \n",
    "        # If the index of tokens_b is exactly one greater than the index of tokens_a, then tokens_b directly follows tokens_a\n",
    "        if tokens_a_index + 1 == tokens_b_index and positive < batch_size/2:\n",
    "            batch.append([input_ids, segment_ids, masked_tokens, masked_pos, True]) # IsNext\n",
    "            positive += 1\n",
    "            \n",
    "        elif tokens_a_index + 1 != tokens_b_index and negative < batch_size/2:\n",
    "            batch.append([input_ids, segment_ids, masked_tokens, masked_pos, False]) # NotNext\n",
    "            negative += 1\n",
    "    return batch"
   ]
  },
  {
   "cell_type": "markdown",
   "id": "7a0b170f",
   "metadata": {},
   "source": [
    "### Building Model"
   ]
  },
  {
   "cell_type": "markdown",
   "id": "67ad865d",
   "metadata": {},
   "source": [
    ">The get_attn_pad_mask function creates a mask to ensure that the attention mechanism does not pay attention to padding tokens when computing attention weights. The mask has a value of True at positions corresponding to padding tokens and False elsewhere."
   ]
  },
  {
   "cell_type": "code",
   "execution_count": 15,
   "id": "27e512ca",
   "metadata": {},
   "outputs": [],
   "source": [
    "def get_attn_pad_mask(seq_q, seq_k):\n",
    "    batch_size, len_q = seq_q.size()\n",
    "    batch_size, len_k = seq_k.size()\n",
    "    # eq(zero) is PAD token\n",
    "    pad_attn_mask = seq_k.data.eq(0).unsqueeze(1)  # batch_size x 1 x len_k(=len_q), one is masking\n",
    "    return pad_attn_mask.expand(batch_size, len_q, len_k)  # batch_size x len_q x len_k"
   ]
  },
  {
   "cell_type": "markdown",
   "id": "367f5019",
   "metadata": {},
   "source": [
    "- Using gelu (Gaussian Error Linear Unit) activation function "
   ]
  },
  {
   "cell_type": "code",
   "execution_count": 16,
   "id": "c70b262b",
   "metadata": {},
   "outputs": [],
   "source": [
    "def gelu(x):\n",
    "    return x * 0.5 * (1.0 + torch.erf(x / math.sqrt(2.0)))"
   ]
  },
  {
   "cell_type": "code",
   "execution_count": 17,
   "id": "e31ad599",
   "metadata": {},
   "outputs": [],
   "source": [
    "batch = make_batch()"
   ]
  },
  {
   "cell_type": "code",
   "execution_count": 18,
   "id": "7d49bf7a",
   "metadata": {},
   "outputs": [],
   "source": [
    "input_ids, segment_ids, masked_tokens, masked_pos, isNext = map(torch.LongTensor, zip(*batch))\n"
   ]
  },
  {
   "cell_type": "code",
   "execution_count": 19,
   "id": "a083dce4",
   "metadata": {},
   "outputs": [
    {
     "data": {
      "text/plain": [
       "(tensor([False, False, False, False, False, False, False, False, False, False,\n",
       "         False, False, False, False, False, False, False, False, False, False,\n",
       "         False, False, False, False, False, False, False, False, False,  True,\n",
       "          True,  True,  True,  True,  True,  True,  True,  True,  True,  True,\n",
       "          True,  True,  True,  True,  True,  True,  True,  True,  True,  True,\n",
       "          True,  True,  True,  True,  True,  True,  True,  True,  True,  True,\n",
       "          True,  True,  True,  True,  True,  True,  True,  True,  True,  True,\n",
       "          True,  True,  True,  True,  True,  True,  True,  True,  True,  True,\n",
       "          True,  True,  True,  True,  True,  True,  True,  True,  True,  True,\n",
       "          True,  True,  True,  True,  True]),\n",
       " tensor([ 1, 74,  3, 60, 72,  3,  8, 48, 14, 76, 43, 50,  2, 90, 32, 23,  6, 83,\n",
       "         68, 22, 71, 81, 38, 55, 58, 41, 16, 87,  2,  0,  0,  0,  0,  0,  0,  0,\n",
       "          0,  0,  0,  0,  0,  0,  0,  0,  0,  0,  0,  0,  0,  0,  0,  0,  0,  0,\n",
       "          0,  0,  0,  0,  0,  0,  0,  0,  0,  0,  0,  0,  0,  0,  0,  0,  0,  0,\n",
       "          0,  0,  0,  0,  0,  0,  0,  0,  0,  0,  0,  0,  0,  0,  0,  0,  0,  0,\n",
       "          0,  0,  0,  0,  0]))"
      ]
     },
     "execution_count": 19,
     "metadata": {},
     "output_type": "execute_result"
    }
   ],
   "source": [
    "get_attn_pad_mask(input_ids, input_ids)[0][0], input_ids[0]"
   ]
  },
  {
   "cell_type": "code",
   "execution_count": 20,
   "id": "6d3e1bfe",
   "metadata": {},
   "outputs": [],
   "source": [
    "class Embedding(nn.Module):\n",
    "    def __init__(self):\n",
    "        super(Embedding, self).__init__()\n",
    "        self.tok_embed = nn.Embedding(vocab_size, d_model)  # token embedding\n",
    "        self.pos_embed = nn.Embedding(maxlen, d_model)  # position embedding\n",
    "        self.seg_embed = nn.Embedding(n_segments, d_model)  # segment(token type) embedding\n",
    "        self.norm = nn.LayerNorm(d_model)\n",
    "\n",
    "    def forward(self, x, seg):\n",
    "        seq_len = x.size(1)\n",
    "        pos = torch.arange(seq_len, dtype=torch.long)\n",
    "        pos = pos.unsqueeze(0).expand_as(x)  # (seq_len,) -> (batch_size, seq_len)\n",
    "        embedding = self.tok_embed(x) + self.pos_embed(pos) + self.seg_embed(seg)\n",
    "        return self.norm(embedding)"
   ]
  },
  {
   "cell_type": "code",
   "execution_count": 21,
   "id": "8e2480ba",
   "metadata": {},
   "outputs": [],
   "source": [
    "class ScaledDotProductAttention(nn.Module):\n",
    "    def __init__(self):\n",
    "        super(ScaledDotProductAttention, self).__init__()\n",
    "\n",
    "    def forward(self, Q, K, V, attn_mask):\n",
    "        scores = torch.matmul(Q, K.transpose(-1, -2)) / np.sqrt(d_k) # scores : [batch_size x n_heads x len_q(=len_k) x len_k(=len_q)]\n",
    "        scores.masked_fill_(attn_mask, -1e9) # Fills elements of self tensor with value where mask is one.\n",
    "        attn = nn.Softmax(dim=-1)(scores)\n",
    "        context = torch.matmul(attn, V)\n",
    "        return context, attn "
   ]
  },
  {
   "cell_type": "code",
   "execution_count": 22,
   "id": "f278530a",
   "metadata": {},
   "outputs": [],
   "source": [
    "class MultiHeadAttention(nn.Module):\n",
    "    def __init__(self):\n",
    "        super(MultiHeadAttention, self).__init__()\n",
    "        self.W_Q = nn.Linear(d_model, d_k * n_heads)\n",
    "        self.W_K = nn.Linear(d_model, d_k * n_heads)\n",
    "        self.W_V = nn.Linear(d_model, d_v * n_heads)\n",
    "    def forward(self, Q, K, V, attn_mask):\n",
    "        # q: [batch_size x len_q x d_model], k: [batch_size x len_k x d_model], v: [batch_size x len_k x d_model]\n",
    "        residual, batch_size = Q, Q.size(0)\n",
    "        # (B, S, D) -proj-> (B, S, D) -split-> (B, S, H, W) -trans-> (B, H, S, W)\n",
    "        q_s = self.W_Q(Q).view(batch_size, -1, n_heads, d_k).transpose(1,2)  # q_s: [batch_size x n_heads x len_q x d_k]\n",
    "        k_s = self.W_K(K).view(batch_size, -1, n_heads, d_k).transpose(1,2)  # k_s: [batch_size x n_heads x len_k x d_k]\n",
    "        v_s = self.W_V(V).view(batch_size, -1, n_heads, d_v).transpose(1,2)  # v_s: [batch_size x n_heads x len_k x d_v]\n",
    "\n",
    "        attn_mask = attn_mask.unsqueeze(1).repeat(1, n_heads, 1, 1) # attn_mask : [batch_size x n_heads x len_q x len_k]\n",
    "\n",
    "        # context: [batch_size x n_heads x len_q x d_v], attn: [batch_size x n_heads x len_q(=len_k) x len_k(=len_q)]\n",
    "        context, attn = ScaledDotProductAttention()(q_s, k_s, v_s, attn_mask)\n",
    "        context = context.transpose(1, 2).contiguous().view(batch_size, -1, n_heads * d_v) # context: [batch_size x len_q x n_heads * d_v]\n",
    "        output = nn.Linear(n_heads * d_v, d_model)(context)\n",
    "        return nn.LayerNorm(d_model)(output + residual), attn # output: [batch_size x len_q x d_model]"
   ]
  },
  {
   "cell_type": "code",
   "execution_count": 23,
   "id": "ef44b99b",
   "metadata": {},
   "outputs": [],
   "source": [
    "class PoswiseFeedForwardNet(nn.Module):\n",
    "    def __init__(self):\n",
    "        super(PoswiseFeedForwardNet, self).__init__()\n",
    "        self.fc1 = nn.Linear(d_model, d_ff)\n",
    "        self.fc2 = nn.Linear(d_ff, d_model)\n",
    "\n",
    "    def forward(self, x):\n",
    "        # (batch_size, len_seq, d_model) -> (batch_size, len_seq, d_ff) -> (batch_size, len_seq, d_model)\n",
    "        return self.fc2(gelu(self.fc1(x)))\n"
   ]
  },
  {
   "cell_type": "code",
   "execution_count": 24,
   "id": "a133b5a5",
   "metadata": {},
   "outputs": [],
   "source": [
    "class EncoderLayer(nn.Module):\n",
    "    def __init__(self):\n",
    "        super(EncoderLayer, self).__init__()\n",
    "        self.enc_self_attn = MultiHeadAttention()\n",
    "        self.pos_ffn = PoswiseFeedForwardNet()\n",
    "\n",
    "    def forward(self, enc_inputs, enc_self_attn_mask):\n",
    "        enc_outputs, attn = self.enc_self_attn(enc_inputs, enc_inputs, enc_inputs, enc_self_attn_mask) # enc_inputs to same Q,K,V\n",
    "        enc_outputs = self.pos_ffn(enc_outputs) # enc_outputs: [batch_size x len_q x d_model]\n",
    "        return enc_outputs, attn"
   ]
  },
  {
   "cell_type": "code",
   "execution_count": 25,
   "id": "03cffa47",
   "metadata": {},
   "outputs": [],
   "source": [
    "class BERT(nn.Module):\n",
    "    def __init__(self):\n",
    "        super(BERT, self).__init__()\n",
    "        self.embedding = Embedding()\n",
    "        self.layers = nn.ModuleList([EncoderLayer() for _ in range(n_layers)])\n",
    "        self.fc = nn.Linear(d_model, d_model)\n",
    "        self.activ1 = nn.Tanh()\n",
    "        self.linear = nn.Linear(d_model, d_model)\n",
    "        self.activ2 = gelu\n",
    "        self.norm = nn.LayerNorm(d_model)\n",
    "        self.classifier = nn.Linear(d_model, 2)\n",
    "        # decoder is shared with embedding layer\n",
    "        embed_weight = self.embedding.tok_embed.weight\n",
    "        n_vocab, n_dim = embed_weight.size()\n",
    "        self.decoder = nn.Linear(n_dim, n_vocab, bias=False)\n",
    "        self.decoder.weight = embed_weight\n",
    "        self.decoder_bias = nn.Parameter(torch.zeros(n_vocab))\n",
    "\n",
    "    def forward(self, input_ids, segment_ids, masked_pos):\n",
    "        output = self.embedding(input_ids, segment_ids)\n",
    "        enc_self_attn_mask = get_attn_pad_mask(input_ids, input_ids)\n",
    "        for layer in self.layers:\n",
    "            output, enc_self_attn = layer(output, enc_self_attn_mask)\n",
    "        # output : [batch_size, len, d_model], attn : [batch_size, n_heads, d_mode, d_model]\n",
    "        # it will be decided by first token(CLS)\n",
    "        h_pooled = self.activ1(self.fc(output[:, 0])) # [batch_size, d_model]\n",
    "        logits_clsf = self.classifier(h_pooled) # [batch_size, 2]\n",
    "\n",
    "        masked_pos = masked_pos[:, :, None].expand(-1, -1, output.size(-1)) # [batch_size, max_pred, d_model]\n",
    "        # get masked position from final output of transformer.\n",
    "        h_masked = torch.gather(output, 1, masked_pos) # masking position [batch_size, max_pred, d_model]\n",
    "        h_masked = self.norm(self.activ2(self.linear(h_masked)))\n",
    "        logits_lm = self.decoder(h_masked) + self.decoder_bias # [batch_size, max_pred, n_vocab]\n",
    "\n",
    "        return logits_lm, logits_clsf"
   ]
  },
  {
   "cell_type": "code",
   "execution_count": 26,
   "id": "0e808147",
   "metadata": {},
   "outputs": [
    {
     "name": "stdout",
     "output_type": "stream",
     "text": [
      "Epoch: 0010 cost = 11.020679\n",
      "Epoch: 0020 cost = 4.021318\n",
      "Epoch: 0030 cost = 1.589590\n",
      "Epoch: 0040 cost = 1.825383\n",
      "Epoch: 0050 cost = 1.166816\n",
      "Epoch: 0060 cost = 1.262604\n",
      "Epoch: 0070 cost = 1.147682\n",
      "Epoch: 0080 cost = 1.153987\n",
      "Epoch: 0090 cost = 1.200482\n",
      "Epoch: 0100 cost = 1.323359\n",
      "\"Hey, Mike! Long time no see,\" exclaimed Sarah as she spotted him in the cafe\n",
      "Mike looked up and smiled, \"Sarah! It's been ages. How have you been?\"\n",
      "\"I've been doing well. Just got back from a trip to Spain,\" she replied, taking a seat\n",
      "\"Oh, that sounds amazing! How was it?\" he inquired, genuinely curious\n",
      "\"It was incredible. The culture, food, everything was just perfect,\" she reminisced\n",
      "Mike chuckled, \"I'm a bit jealous now\"\n",
      "\"You should definitely visit someday,\" Sarah suggested\n",
      "\"I'll keep that in mind,\" he nodded\n",
      "\"Let's catch up more. I've missed our chats,\" she said warmly\n",
      "\"Absolutely, there's a lot to share,\" Mike agreed\n",
      "\n",
      "['[CLS]', '\"absolutely', '[MASK]', 'a', 'lot', 'to', 'share\"', 'mike', 'agreed', '[SEP]', '\"let\\'s', 'catch', 'up', 'more', \"i've\", 'missed', 'our', '[MASK]', 'she', 'said', 'warmly', '[SEP]']\n",
      "masked tokens list :  [54, 65, 77]\n",
      "predict masked tokens list :  [54, 65, 77]\n",
      "isNext :  False\n",
      "predict isNext :  False\n"
     ]
    }
   ],
   "source": [
    "model = BERT()\n",
    "\n",
    "criterion = nn.CrossEntropyLoss()\n",
    "optimizer = optim.Adam(model.parameters(), lr=0.0001)\n",
    "\n",
    "batch = make_batch()\n",
    "input_ids, segment_ids, masked_tokens, masked_pos, isNext = map(torch.LongTensor, zip(*batch))\n",
    "\n",
    "for epoch in range(100):\n",
    "        optimizer.zero_grad()\n",
    "        logits_lm, logits_clsf = model(input_ids, segment_ids, masked_pos)\n",
    "        loss_lm = criterion(logits_lm.transpose(1, 2), masked_tokens) # for masked LM\n",
    "        loss_lm = (loss_lm.float()).mean()\n",
    "        loss_clsf = criterion(logits_clsf, isNext) # for sentence classification\n",
    "        loss = loss_lm + loss_clsf\n",
    "        if (epoch + 1) % 10 == 0:\n",
    "            print('Epoch:', '%04d' % (epoch + 1), 'cost =', '{:.6f}'.format(loss))\n",
    "        loss.backward()\n",
    "        optimizer.step()\n",
    "\n",
    "# Predict mask tokens\n",
    "input_ids, segment_ids, masked_tokens, masked_pos, isNext = map(torch.LongTensor, zip(batch[0]))\n",
    "print(text)\n",
    "print([number_dict[w.item()] for w in input_ids[0] if number_dict[w.item()] != '[PAD]'])\n",
    "\n",
    "logits_lm, logits_clsf = model(input_ids, segment_ids, masked_pos)\n",
    "logits_lm = logits_lm.data.max(2)[1][0].data.numpy()\n",
    "#all_predictions = logits_lm.max(2)[1].numpy()\n",
    "\n",
    "print('masked tokens list : ',[pos.item() for pos in masked_tokens[0] if pos.item() != 0])\n",
    "print('predict masked tokens list : ',[pos for pos in logits_lm if pos != 0])\n",
    "\n",
    "logits_clsf = logits_clsf.data.max(1)[1].data.numpy()[0]\n",
    "print('isNext : ', True if isNext else False)\n",
    "print('predict isNext : ',True if logits_clsf else False)\n",
    "\n",
    "#for sequence in all_predictions:\n",
    "#    predicted_words = [number_dict[idx] for idx in sequence if idx != 0]\n",
    "#    print(predicted_words)"
   ]
  },
  {
   "cell_type": "code",
   "execution_count": 28,
   "id": "db7f0c33",
   "metadata": {},
   "outputs": [
    {
     "name": "stdout",
     "output_type": "stream",
     "text": [
      "Predicted words for masked tokens: [\"there's\", 'chats\"', \"i've\"]\n"
     ]
    }
   ],
   "source": [
    "predicted_words = [number_dict[idx] for idx in logits_lm if idx != 0]\n",
    "print('Predicted words for masked tokens:', predicted_words)"
   ]
  },
  {
   "cell_type": "code",
   "execution_count": 38,
   "id": "eb7b9ea4",
   "metadata": {},
   "outputs": [
    {
     "name": "stdout",
     "output_type": "stream",
     "text": [
      "(5,)\n"
     ]
    }
   ],
   "source": [
    "print(logits_lm.shape)"
   ]
  },
  {
   "cell_type": "code",
   "execution_count": 27,
   "id": "1cbebdc4",
   "metadata": {},
   "outputs": [
    {
     "data": {
      "text/plain": [
       "[\"there's\", 'chats\"', \"i've\"]"
      ]
     },
     "execution_count": 27,
     "metadata": {},
     "output_type": "execute_result"
    }
   ],
   "source": [
    "predicted_words = [number_dict[idx] for idx in [54, 65, 77]]\n",
    "predicted_words\n"
   ]
  },
  {
   "cell_type": "code",
   "execution_count": null,
   "id": "9aa58be7",
   "metadata": {},
   "outputs": [],
   "source": []
  }
 ],
 "metadata": {
  "kernelspec": {
   "display_name": "Python 3 (ipykernel)",
   "language": "python",
   "name": "python3"
  },
  "language_info": {
   "codemirror_mode": {
    "name": "ipython",
    "version": 3
   },
   "file_extension": ".py",
   "mimetype": "text/x-python",
   "name": "python",
   "nbconvert_exporter": "python",
   "pygments_lexer": "ipython3",
   "version": "3.9.12"
  }
 },
 "nbformat": 4,
 "nbformat_minor": 5
}
